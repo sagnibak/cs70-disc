{
 "cells": [
  {
   "cell_type": "code",
   "execution_count": 1,
   "metadata": {},
   "outputs": [],
   "source": [
    "%matplotlib inline\n",
    "import matplotlib.pyplot as plt\n",
    "import numpy as np\n",
    "import pandas as pd\n",
    "\n",
    "# nice parameters for matplotlib\n",
    "import matplotlib as mpl\n",
    "mpl.rcParams[\"figure.figsize\"] = [12.0, 10.0]\n",
    "mpl.rcParams[\"legend.fontsize\"] = \"large\"\n",
    "mpl.rcParams[\"figure.titlesize\"] = \"medium\"\n",
    "\n",
    "# rendering images\n",
    "from IPython.display import display, Image"
   ]
  },
  {
   "cell_type": "markdown",
   "metadata": {},
   "source": [
    "# Training Data"
   ]
  },
  {
   "cell_type": "markdown",
   "metadata": {},
   "source": [
    "## Weight: 4518 lbs / 2049 kg"
   ]
  },
  {
   "cell_type": "code",
   "execution_count": 2,
   "metadata": {},
   "outputs": [
    {
     "data": {
      "text/html": [
       "<img src=\"https://media.ed.edmunds-media.com/ford/f-150/2012/oem/2012_ford_f-150_regular-cab-pickup_xl_fq_oem_1_500.jpg\"/>"
      ],
      "text/plain": [
       "<IPython.core.display.Image object>"
      ]
     },
     "execution_count": 2,
     "metadata": {},
     "output_type": "execute_result"
    }
   ],
   "source": [
    "Image(url=\"https://media.ed.edmunds-media.com/ford/f-150/2012/oem/2012_ford_f-150_regular-cab-pickup_xl_fq_oem_1_500.jpg\")"
   ]
  },
  {
   "cell_type": "markdown",
   "metadata": {},
   "source": [
    "## Weight: 3453 lbs / 1566 kg"
   ]
  },
  {
   "cell_type": "code",
   "execution_count": 3,
   "metadata": {},
   "outputs": [
    {
     "data": {
      "text/html": [
       "<img src=\"https://www.toyota.com/imgix/responsive/images/mlp/colorizer/2021/camry/1JJ/1.png?bg=fff&fm=webp&w=930\"/>"
      ],
      "text/plain": [
       "<IPython.core.display.Image object>"
      ]
     },
     "execution_count": 3,
     "metadata": {},
     "output_type": "execute_result"
    }
   ],
   "source": [
    "Image(url=\"https://www.toyota.com/imgix/responsive/images/mlp/colorizer/2021/camry/1JJ/1.png?bg=fff&fm=webp&w=930\")"
   ]
  },
  {
   "cell_type": "markdown",
   "metadata": {},
   "source": [
    "## Weight: 3742 lbs / 1697 kg"
   ]
  },
  {
   "cell_type": "code",
   "execution_count": 4,
   "metadata": {},
   "outputs": [
    {
     "data": {
      "text/html": [
       "<img src=\"https://images.hgmsites.net/lrg/2021-nissan-leaf-sv-hatchback-angular-front-exterior-view_100776722_l.jpg\" width=\"600\"/>"
      ],
      "text/plain": [
       "<IPython.core.display.Image object>"
      ]
     },
     "execution_count": 4,
     "metadata": {},
     "output_type": "execute_result"
    }
   ],
   "source": [
    "Image(\n",
    "    url=\"https://images.hgmsites.net/lrg/2021-nissan-leaf-sv-hatchback-angular-front-exterior-view_100776722_l.jpg\",\n",
    "    width=600\n",
    ")"
   ]
  },
  {
   "cell_type": "markdown",
   "metadata": {},
   "source": [
    "# Testing Data"
   ]
  },
  {
   "cell_type": "code",
   "execution_count": 5,
   "metadata": {},
   "outputs": [
    {
     "data": {
      "text/html": [
       "<img src=\"https://www.motortrend.com/uploads/sites/5/2020/09/2022-Tesla-Model-S-Plaid-White-.png?fit=around%7C875:492\"/>"
      ],
      "text/plain": [
       "<IPython.core.display.Image object>"
      ]
     },
     "execution_count": 5,
     "metadata": {},
     "output_type": "execute_result"
    }
   ],
   "source": [
    "Image(url = \"https://www.motortrend.com/uploads/sites/5/2020/09/2022-Tesla-Model-S-Plaid-White-.png?fit=around%7C875:492\")"
   ]
  },
  {
   "cell_type": "code",
   "execution_count": 8,
   "metadata": {},
   "outputs": [
    {
     "data": {
      "text/html": [
       "<div>\n",
       "<style scoped>\n",
       "    .dataframe tbody tr th:only-of-type {\n",
       "        vertical-align: middle;\n",
       "    }\n",
       "\n",
       "    .dataframe tbody tr th {\n",
       "        vertical-align: top;\n",
       "    }\n",
       "\n",
       "    .dataframe thead th {\n",
       "        text-align: right;\n",
       "    }\n",
       "</style>\n",
       "<table border=\"1\" class=\"dataframe\">\n",
       "  <thead>\n",
       "    <tr style=\"text-align: right;\">\n",
       "      <th></th>\n",
       "      <th>Name</th>\n",
       "      <th>Pronoun Series</th>\n",
       "      <th>Predicted Weight</th>\n",
       "      <th>Confidence</th>\n",
       "    </tr>\n",
       "  </thead>\n",
       "  <tbody>\n",
       "    <tr>\n",
       "      <th>0</th>\n",
       "      <td>Sagnik</td>\n",
       "      <td>he</td>\n",
       "      <td>(0.0, kg)</td>\n",
       "      <td>0.00</td>\n",
       "    </tr>\n",
       "    <tr>\n",
       "      <th>1</th>\n",
       "      <td>Arthur</td>\n",
       "      <td>he</td>\n",
       "      <td>(4100, lbs)</td>\n",
       "      <td>6.00</td>\n",
       "    </tr>\n",
       "    <tr>\n",
       "      <th>2</th>\n",
       "      <td>Anny</td>\n",
       "      <td>she</td>\n",
       "      <td>(3440, lbs)</td>\n",
       "      <td>3.00</td>\n",
       "    </tr>\n",
       "    <tr>\n",
       "      <th>3</th>\n",
       "      <td>Ibrahim</td>\n",
       "      <td>he</td>\n",
       "      <td>(2000, kg)</td>\n",
       "      <td>5.00</td>\n",
       "    </tr>\n",
       "    <tr>\n",
       "      <th>4</th>\n",
       "      <td>Emaad</td>\n",
       "      <td>he</td>\n",
       "      <td>(4000, lbs)</td>\n",
       "      <td>7.00</td>\n",
       "    </tr>\n",
       "    <tr>\n",
       "      <th>5</th>\n",
       "      <td>Rithvik</td>\n",
       "      <td>he</td>\n",
       "      <td>(4500, lbs)</td>\n",
       "      <td>6.00</td>\n",
       "    </tr>\n",
       "    <tr>\n",
       "      <th>6</th>\n",
       "      <td>Hiroshi</td>\n",
       "      <td>he</td>\n",
       "      <td>(1900, kg)</td>\n",
       "      <td>10.00</td>\n",
       "    </tr>\n",
       "    <tr>\n",
       "      <th>7</th>\n",
       "      <td>Jasper</td>\n",
       "      <td>he</td>\n",
       "      <td>(4400, lbs)</td>\n",
       "      <td>4.00</td>\n",
       "    </tr>\n",
       "    <tr>\n",
       "      <th>8</th>\n",
       "      <td>Sean</td>\n",
       "      <td>he</td>\n",
       "      <td>(3800, lbs)</td>\n",
       "      <td>2.00</td>\n",
       "    </tr>\n",
       "    <tr>\n",
       "      <th>9</th>\n",
       "      <td>Divya</td>\n",
       "      <td>she</td>\n",
       "      <td>(3800, lbs)</td>\n",
       "      <td>2.50</td>\n",
       "    </tr>\n",
       "    <tr>\n",
       "      <th>10</th>\n",
       "      <td>Jonathan</td>\n",
       "      <td>he</td>\n",
       "      <td>(4100, lbs)</td>\n",
       "      <td>4.00</td>\n",
       "    </tr>\n",
       "    <tr>\n",
       "      <th>11</th>\n",
       "      <td>Britney</td>\n",
       "      <td>she</td>\n",
       "      <td>(3700, lbs)</td>\n",
       "      <td>6.90</td>\n",
       "    </tr>\n",
       "    <tr>\n",
       "      <th>12</th>\n",
       "      <td>William</td>\n",
       "      <td>he</td>\n",
       "      <td>(4500, lbs)</td>\n",
       "      <td>4.50</td>\n",
       "    </tr>\n",
       "    <tr>\n",
       "      <th>13</th>\n",
       "      <td>Dustin</td>\n",
       "      <td>he</td>\n",
       "      <td>(3950, lbs)</td>\n",
       "      <td>3.00</td>\n",
       "    </tr>\n",
       "    <tr>\n",
       "      <th>14</th>\n",
       "      <td>Dechao</td>\n",
       "      <td>he</td>\n",
       "      <td>(3900, lbs)</td>\n",
       "      <td>2.00</td>\n",
       "    </tr>\n",
       "    <tr>\n",
       "      <th>15</th>\n",
       "      <td>Erica</td>\n",
       "      <td>she</td>\n",
       "      <td>(3500, lbs)</td>\n",
       "      <td>7.20</td>\n",
       "    </tr>\n",
       "    <tr>\n",
       "      <th>16</th>\n",
       "      <td>Olivia</td>\n",
       "      <td>she</td>\n",
       "      <td>(4000, lbs)</td>\n",
       "      <td>7.00</td>\n",
       "    </tr>\n",
       "    <tr>\n",
       "      <th>17</th>\n",
       "      <td>Francis</td>\n",
       "      <td>he</td>\n",
       "      <td>(4700, lbs)</td>\n",
       "      <td>4.50</td>\n",
       "    </tr>\n",
       "    <tr>\n",
       "      <th>18</th>\n",
       "      <td>Lexy</td>\n",
       "      <td>she</td>\n",
       "      <td>(2400, kg)</td>\n",
       "      <td>0.67</td>\n",
       "    </tr>\n",
       "    <tr>\n",
       "      <th>19</th>\n",
       "      <td>Neha</td>\n",
       "      <td>she</td>\n",
       "      <td>(3000, lbs)</td>\n",
       "      <td>5.00</td>\n",
       "    </tr>\n",
       "    <tr>\n",
       "      <th>20</th>\n",
       "      <td>Abhi</td>\n",
       "      <td>he</td>\n",
       "      <td>(3600, lbs)</td>\n",
       "      <td>6.00</td>\n",
       "    </tr>\n",
       "    <tr>\n",
       "      <th>21</th>\n",
       "      <td>Daksh</td>\n",
       "      <td>he</td>\n",
       "      <td>(4000, lbs)</td>\n",
       "      <td>5.00</td>\n",
       "    </tr>\n",
       "  </tbody>\n",
       "</table>\n",
       "</div>"
      ],
      "text/plain": [
       "        Name Pronoun Series Predicted Weight  Confidence\n",
       "0     Sagnik             he        (0.0, kg)        0.00\n",
       "1     Arthur             he      (4100, lbs)        6.00\n",
       "2       Anny            she      (3440, lbs)        3.00\n",
       "3    Ibrahim             he       (2000, kg)        5.00\n",
       "4      Emaad             he      (4000, lbs)        7.00\n",
       "5    Rithvik             he      (4500, lbs)        6.00\n",
       "6    Hiroshi             he       (1900, kg)       10.00\n",
       "7     Jasper             he      (4400, lbs)        4.00\n",
       "8       Sean             he      (3800, lbs)        2.00\n",
       "9      Divya            she      (3800, lbs)        2.50\n",
       "10  Jonathan             he      (4100, lbs)        4.00\n",
       "11   Britney            she      (3700, lbs)        6.90\n",
       "12   William             he      (4500, lbs)        4.50\n",
       "13    Dustin             he      (3950, lbs)        3.00\n",
       "14    Dechao             he      (3900, lbs)        2.00\n",
       "15     Erica            she      (3500, lbs)        7.20\n",
       "16    Olivia            she      (4000, lbs)        7.00\n",
       "17   Francis             he      (4700, lbs)        4.50\n",
       "18      Lexy            she       (2400, kg)        0.67\n",
       "19      Neha            she      (3000, lbs)        5.00\n",
       "20      Abhi             he      (3600, lbs)        6.00\n",
       "21     Daksh             he      (4000, lbs)        5.00"
      ]
     },
     "execution_count": 8,
     "metadata": {},
     "output_type": "execute_result"
    }
   ],
   "source": [
    "dat = pd.DataFrame({\n",
    "    \"Name\": [\n",
    "        \"Sagnik\", \"Arthur\", \"Anny\", \"Ibrahim\", \"Emaad\", \"Rithvik\", \"Hiroshi\",\n",
    "        \"Jasper\", \"Sean\", \"Divya\", \"Jonathan\", \"Britney\", \"William\", \"Dustin\",\n",
    "        \"Dechao\", \"Erica\", \"Olivia\", \"Francis\", \"Lexy\", \"Neha\", \"Abhi\", \"Daksh\"\n",
    "    ],\n",
    "    \"Pronoun Series\": [\n",
    "        \"he\", \"he\", \"she\", \"he\", \"he\", \"he\", \"he\",\n",
    "        \"he\", \"he\", \"she\", \"he\", \"she\", \"he\", \"he\",\n",
    "        \"he\", \"she\", \"she\", \"he\", \"she\", \"she\", \"he\", \"he\"\n",
    "    ],\n",
    "    \"Predicted Weight\": [\n",
    "        (0., \"kg\"), (4100, \"lbs\"), (3440, \"lbs\"), (2000, \"kg\"), (4000, \"lbs\"), (4500, \"lbs\"), (1900, \"kg\"),\n",
    "        (4400, \"lbs\"), (3800, \"lbs\"), (3800, \"lbs\"), (4100, \"lbs\"), (3700, \"lbs\"), (4500, \"lbs\"), (3950, \"lbs\"),\n",
    "        (3900, \"lbs\"), (3500, \"lbs\"), (4000, \"lbs\"), (4700, \"lbs\"), (2400, \"kg\"), (3000, \"lbs\"), (3600, \"lbs\"),\n",
    "        (4000, \"lbs\")\n",
    "    ],\n",
    "    \"Confidence\": [\n",
    "        0., 6., 3., 5., 7., 6., 10., 4., 2., 2.5, 4., 6.9, 4.5, 3.,\n",
    "        2., 7.2, 7., 4.5, 0.67, 5., 6., 5.,\n",
    "    ]\n",
    "})\n",
    "\n",
    "dat"
   ]
  },
  {
   "cell_type": "markdown",
   "metadata": {},
   "source": [
    "## Convert lbs to kg"
   ]
  },
  {
   "cell_type": "code",
   "execution_count": 9,
   "metadata": {},
   "outputs": [
    {
     "data": {
      "text/html": [
       "<div>\n",
       "<style scoped>\n",
       "    .dataframe tbody tr th:only-of-type {\n",
       "        vertical-align: middle;\n",
       "    }\n",
       "\n",
       "    .dataframe tbody tr th {\n",
       "        vertical-align: top;\n",
       "    }\n",
       "\n",
       "    .dataframe thead th {\n",
       "        text-align: right;\n",
       "    }\n",
       "</style>\n",
       "<table border=\"1\" class=\"dataframe\">\n",
       "  <thead>\n",
       "    <tr style=\"text-align: right;\">\n",
       "      <th></th>\n",
       "      <th>Name</th>\n",
       "      <th>Pronoun Series</th>\n",
       "      <th>Predicted Weight</th>\n",
       "      <th>Confidence</th>\n",
       "      <th>Weight (kg)</th>\n",
       "    </tr>\n",
       "  </thead>\n",
       "  <tbody>\n",
       "    <tr>\n",
       "      <th>0</th>\n",
       "      <td>Sagnik</td>\n",
       "      <td>he</td>\n",
       "      <td>(0.0, kg)</td>\n",
       "      <td>0.00</td>\n",
       "      <td>0.000000</td>\n",
       "    </tr>\n",
       "    <tr>\n",
       "      <th>1</th>\n",
       "      <td>Arthur</td>\n",
       "      <td>he</td>\n",
       "      <td>(4100, lbs)</td>\n",
       "      <td>6.00</td>\n",
       "      <td>1859.728717</td>\n",
       "    </tr>\n",
       "    <tr>\n",
       "      <th>2</th>\n",
       "      <td>Anny</td>\n",
       "      <td>she</td>\n",
       "      <td>(3440, lbs)</td>\n",
       "      <td>3.00</td>\n",
       "      <td>1560.357753</td>\n",
       "    </tr>\n",
       "    <tr>\n",
       "      <th>3</th>\n",
       "      <td>Ibrahim</td>\n",
       "      <td>he</td>\n",
       "      <td>(2000, kg)</td>\n",
       "      <td>5.00</td>\n",
       "      <td>2000.000000</td>\n",
       "    </tr>\n",
       "    <tr>\n",
       "      <th>4</th>\n",
       "      <td>Emaad</td>\n",
       "      <td>he</td>\n",
       "      <td>(4000, lbs)</td>\n",
       "      <td>7.00</td>\n",
       "      <td>1814.369480</td>\n",
       "    </tr>\n",
       "    <tr>\n",
       "      <th>5</th>\n",
       "      <td>Rithvik</td>\n",
       "      <td>he</td>\n",
       "      <td>(4500, lbs)</td>\n",
       "      <td>6.00</td>\n",
       "      <td>2041.165665</td>\n",
       "    </tr>\n",
       "    <tr>\n",
       "      <th>6</th>\n",
       "      <td>Hiroshi</td>\n",
       "      <td>he</td>\n",
       "      <td>(1900, kg)</td>\n",
       "      <td>10.00</td>\n",
       "      <td>1900.000000</td>\n",
       "    </tr>\n",
       "    <tr>\n",
       "      <th>7</th>\n",
       "      <td>Jasper</td>\n",
       "      <td>he</td>\n",
       "      <td>(4400, lbs)</td>\n",
       "      <td>4.00</td>\n",
       "      <td>1995.806428</td>\n",
       "    </tr>\n",
       "    <tr>\n",
       "      <th>8</th>\n",
       "      <td>Sean</td>\n",
       "      <td>he</td>\n",
       "      <td>(3800, lbs)</td>\n",
       "      <td>2.00</td>\n",
       "      <td>1723.651006</td>\n",
       "    </tr>\n",
       "    <tr>\n",
       "      <th>9</th>\n",
       "      <td>Divya</td>\n",
       "      <td>she</td>\n",
       "      <td>(3800, lbs)</td>\n",
       "      <td>2.50</td>\n",
       "      <td>1723.651006</td>\n",
       "    </tr>\n",
       "    <tr>\n",
       "      <th>10</th>\n",
       "      <td>Jonathan</td>\n",
       "      <td>he</td>\n",
       "      <td>(4100, lbs)</td>\n",
       "      <td>4.00</td>\n",
       "      <td>1859.728717</td>\n",
       "    </tr>\n",
       "    <tr>\n",
       "      <th>11</th>\n",
       "      <td>Britney</td>\n",
       "      <td>she</td>\n",
       "      <td>(3700, lbs)</td>\n",
       "      <td>6.90</td>\n",
       "      <td>1678.291769</td>\n",
       "    </tr>\n",
       "    <tr>\n",
       "      <th>12</th>\n",
       "      <td>William</td>\n",
       "      <td>he</td>\n",
       "      <td>(4500, lbs)</td>\n",
       "      <td>4.50</td>\n",
       "      <td>2041.165665</td>\n",
       "    </tr>\n",
       "    <tr>\n",
       "      <th>13</th>\n",
       "      <td>Dustin</td>\n",
       "      <td>he</td>\n",
       "      <td>(3950, lbs)</td>\n",
       "      <td>3.00</td>\n",
       "      <td>1791.689862</td>\n",
       "    </tr>\n",
       "    <tr>\n",
       "      <th>14</th>\n",
       "      <td>Dechao</td>\n",
       "      <td>he</td>\n",
       "      <td>(3900, lbs)</td>\n",
       "      <td>2.00</td>\n",
       "      <td>1769.010243</td>\n",
       "    </tr>\n",
       "    <tr>\n",
       "      <th>15</th>\n",
       "      <td>Erica</td>\n",
       "      <td>she</td>\n",
       "      <td>(3500, lbs)</td>\n",
       "      <td>7.20</td>\n",
       "      <td>1587.573295</td>\n",
       "    </tr>\n",
       "    <tr>\n",
       "      <th>16</th>\n",
       "      <td>Olivia</td>\n",
       "      <td>she</td>\n",
       "      <td>(4000, lbs)</td>\n",
       "      <td>7.00</td>\n",
       "      <td>1814.369480</td>\n",
       "    </tr>\n",
       "    <tr>\n",
       "      <th>17</th>\n",
       "      <td>Francis</td>\n",
       "      <td>he</td>\n",
       "      <td>(4700, lbs)</td>\n",
       "      <td>4.50</td>\n",
       "      <td>2131.884139</td>\n",
       "    </tr>\n",
       "    <tr>\n",
       "      <th>18</th>\n",
       "      <td>Lexy</td>\n",
       "      <td>she</td>\n",
       "      <td>(2400, kg)</td>\n",
       "      <td>0.67</td>\n",
       "      <td>2400.000000</td>\n",
       "    </tr>\n",
       "    <tr>\n",
       "      <th>19</th>\n",
       "      <td>Neha</td>\n",
       "      <td>she</td>\n",
       "      <td>(3000, lbs)</td>\n",
       "      <td>5.00</td>\n",
       "      <td>1360.777110</td>\n",
       "    </tr>\n",
       "    <tr>\n",
       "      <th>20</th>\n",
       "      <td>Abhi</td>\n",
       "      <td>he</td>\n",
       "      <td>(3600, lbs)</td>\n",
       "      <td>6.00</td>\n",
       "      <td>1632.932532</td>\n",
       "    </tr>\n",
       "    <tr>\n",
       "      <th>21</th>\n",
       "      <td>Daksh</td>\n",
       "      <td>he</td>\n",
       "      <td>(4000, lbs)</td>\n",
       "      <td>5.00</td>\n",
       "      <td>1814.369480</td>\n",
       "    </tr>\n",
       "  </tbody>\n",
       "</table>\n",
       "</div>"
      ],
      "text/plain": [
       "        Name Pronoun Series Predicted Weight  Confidence  Weight (kg)\n",
       "0     Sagnik             he        (0.0, kg)        0.00     0.000000\n",
       "1     Arthur             he      (4100, lbs)        6.00  1859.728717\n",
       "2       Anny            she      (3440, lbs)        3.00  1560.357753\n",
       "3    Ibrahim             he       (2000, kg)        5.00  2000.000000\n",
       "4      Emaad             he      (4000, lbs)        7.00  1814.369480\n",
       "5    Rithvik             he      (4500, lbs)        6.00  2041.165665\n",
       "6    Hiroshi             he       (1900, kg)       10.00  1900.000000\n",
       "7     Jasper             he      (4400, lbs)        4.00  1995.806428\n",
       "8       Sean             he      (3800, lbs)        2.00  1723.651006\n",
       "9      Divya            she      (3800, lbs)        2.50  1723.651006\n",
       "10  Jonathan             he      (4100, lbs)        4.00  1859.728717\n",
       "11   Britney            she      (3700, lbs)        6.90  1678.291769\n",
       "12   William             he      (4500, lbs)        4.50  2041.165665\n",
       "13    Dustin             he      (3950, lbs)        3.00  1791.689862\n",
       "14    Dechao             he      (3900, lbs)        2.00  1769.010243\n",
       "15     Erica            she      (3500, lbs)        7.20  1587.573295\n",
       "16    Olivia            she      (4000, lbs)        7.00  1814.369480\n",
       "17   Francis             he      (4700, lbs)        4.50  2131.884139\n",
       "18      Lexy            she       (2400, kg)        0.67  2400.000000\n",
       "19      Neha            she      (3000, lbs)        5.00  1360.777110\n",
       "20      Abhi             he      (3600, lbs)        6.00  1632.932532\n",
       "21     Daksh             he      (4000, lbs)        5.00  1814.369480"
      ]
     },
     "execution_count": 9,
     "metadata": {},
     "output_type": "execute_result"
    }
   ],
   "source": [
    "dat[\"Weight (kg)\"] = dat[\"Predicted Weight\"].map(\n",
    "    lambda weight: weight[0] if weight[1] == \"kg\" else weight[0] * 0.45359237,\n",
    "    na_action=\"ignore\"\n",
    ")\n",
    "dat"
   ]
  },
  {
   "cell_type": "markdown",
   "metadata": {},
   "source": [
    "## Simple Averaging"
   ]
  },
  {
   "cell_type": "code",
   "execution_count": 11,
   "metadata": {},
   "outputs": [
    {
     "data": {
      "text/plain": [
       "(1750.0237430136367, 3858.1419326203318)"
      ]
     },
     "execution_count": 11,
     "metadata": {},
     "output_type": "execute_result"
    }
   ],
   "source": [
    "preds = dat[\"Weight (kg)\"]\n",
    "\n",
    "final_prediction = np.average(preds)\n",
    "final_prediction, final_prediction / 0.45359237\n",
    "# 4900 lbs"
   ]
  },
  {
   "cell_type": "markdown",
   "metadata": {},
   "source": [
    "## Weighted Averaging"
   ]
  },
  {
   "cell_type": "code",
   "execution_count": 12,
   "metadata": {},
   "outputs": [
    {
     "data": {
      "text/plain": [
       "(1813.4695925545575, 3998.0160877806597)"
      ]
     },
     "execution_count": 12,
     "metadata": {},
     "output_type": "execute_result"
    }
   ],
   "source": [
    "conf = dat[\"Confidence\"]\n",
    "\n",
    "def weighted_average(predictions, confidences):\n",
    "    return np.sum(list(map(lambda weight, confidence: weight * confidence, preds, conf))) / np.sum(conf)\n",
    "\n",
    "weighted_pred = np.average(preds, weights=conf)\n",
    "weighted_pred, weighted_pred / 0.45359237"
   ]
  },
  {
   "cell_type": "markdown",
   "metadata": {},
   "source": [
    "## Clipping Low Confidences"
   ]
  },
  {
   "cell_type": "code",
   "execution_count": 15,
   "metadata": {},
   "outputs": [
    {
     "data": {
      "text/plain": [
       "array([ 0. ,  6. ,  0. ,  5. ,  7. ,  6. , 10. ,  0. ,  0. ,  0. ,  0. ,\n",
       "        6.9,  0. ,  0. ,  0. ,  7.2,  7. ,  0. ,  0. ,  5. ,  6. ,  5. ])"
      ]
     },
     "execution_count": 15,
     "metadata": {},
     "output_type": "execute_result"
    }
   ],
   "source": [
    "clipped = np.where(conf >= 5, conf, 0)\n",
    "clipped"
   ]
  },
  {
   "cell_type": "code",
   "execution_count": 16,
   "metadata": {},
   "outputs": [
    {
     "data": {
      "text/plain": [
       "0      0.00\n",
       "1      6.00\n",
       "2      3.00\n",
       "3      5.00\n",
       "4      7.00\n",
       "5      6.00\n",
       "6     10.00\n",
       "7      4.00\n",
       "8      2.00\n",
       "9      2.50\n",
       "10     4.00\n",
       "11     6.90\n",
       "12     4.50\n",
       "13     3.00\n",
       "14     2.00\n",
       "15     7.20\n",
       "16     7.00\n",
       "17     4.50\n",
       "18     0.67\n",
       "19     5.00\n",
       "20     6.00\n",
       "21     5.00\n",
       "Name: Confidence, dtype: float64"
      ]
     },
     "execution_count": 16,
     "metadata": {},
     "output_type": "execute_result"
    }
   ],
   "source": [
    "conf"
   ]
  },
  {
   "cell_type": "code",
   "execution_count": 17,
   "metadata": {},
   "outputs": [
    {
     "data": {
      "text/plain": [
       "(1779.0521530815754, 3922.1386221324124)"
      ]
     },
     "execution_count": 17,
     "metadata": {},
     "output_type": "execute_result"
    }
   ],
   "source": [
    "np.average(preds, weights=clipped), np.average(preds, weights=clipped) / 0.45359237"
   ]
  }
 ],
 "metadata": {
  "kernelspec": {
   "display_name": "Python 3",
   "language": "python",
   "name": "python3"
  },
  "language_info": {
   "codemirror_mode": {
    "name": "ipython",
    "version": 3
   },
   "file_extension": ".py",
   "mimetype": "text/x-python",
   "name": "python",
   "nbconvert_exporter": "python",
   "pygments_lexer": "ipython3",
   "version": "3.8.5"
  }
 },
 "nbformat": 4,
 "nbformat_minor": 4
}
