{
 "cells": [
  {
   "cell_type": "markdown",
   "metadata": {},
   "source": [
    "# Salmon and Seabass"
   ]
  },
  {
   "cell_type": "code",
   "execution_count": null,
   "metadata": {},
   "outputs": [],
   "source": [
    "%matplotlib inline\n",
    "import matplotlib.pyplot as plt\n",
    "import numpy as np\n",
    "import pandas as pd\n",
    "from scipy import stats\n",
    "\n",
    "# nice parameters for matplotlib\n",
    "import matplotlib as mpl\n",
    "mpl.rcParams[\"figure.figsize\"] = [12.0, 10.0]\n",
    "mpl.rcParams[\"legend.fontsize\"] = \"large\"\n",
    "mpl.rcParams[\"figure.titlesize\"] = \"medium\""
   ]
  },
  {
   "cell_type": "markdown",
   "metadata": {},
   "source": [
    "## Data"
   ]
  },
  {
   "cell_type": "code",
   "execution_count": null,
   "metadata": {},
   "outputs": [],
   "source": [
    "salmon = np.array([3, 4, 5, 6, 7.])\n",
    "seabass = np.array([5, 6, 7, 8, 9, 7 + np.sqrt(2), 7 - np.sqrt(2)])"
   ]
  },
  {
   "cell_type": "markdown",
   "metadata": {},
   "source": [
    "## Compute the Sample Statistics"
   ]
  },
  {
   "cell_type": "code",
   "execution_count": null,
   "metadata": {},
   "outputs": [],
   "source": [
    "mu_hat_salmon = ...\n",
    "sd_hat_salmon = ...\n",
    "pi_hat_salmon = ...\n",
    "mu_hat_seabass = ...\n",
    "sd_hat_seabass = ...\n",
    "pi_hat_seabass = ..."
   ]
  },
  {
   "cell_type": "code",
   "execution_count": null,
   "metadata": {},
   "outputs": [],
   "source": [
    "mu_hat_salmon, mu_hat_seabass"
   ]
  },
  {
   "cell_type": "code",
   "execution_count": null,
   "metadata": {},
   "outputs": [],
   "source": [
    "sd_hat_salmon, sd_hat_seabass"
   ]
  },
  {
   "cell_type": "code",
   "execution_count": null,
   "metadata": {},
   "outputs": [],
   "source": [
    "pi_hat_salmon, pi_hat_seabass"
   ]
  },
  {
   "cell_type": "markdown",
   "metadata": {},
   "source": [
    "## Plot the Estimated PDFs"
   ]
  },
  {
   "cell_type": "code",
   "execution_count": null,
   "metadata": {},
   "outputs": [],
   "source": [
    "weights = np.linspace(1, 11, 101)\n",
    "plt.plot(weights, stats.norm.pdf(weights, mu_hat_salmon, sd_hat_salmon))\n",
    "plt.scatter(salmon, np.zeros_like(salmon), marker=\"<\", label=\"Salmon\")\n",
    "plt.legend()\n",
    "plt.show()"
   ]
  },
  {
   "cell_type": "code",
   "execution_count": null,
   "metadata": {},
   "outputs": [],
   "source": [
    "plt.plot(weights, stats.norm.pdf(weights, mu_hat_seabass, sd_hat_seabass))\n",
    "plt.scatter(seabass, np.zeros_like(seabass), marker=\">\", label=\"Seabass\", color=\"orange\")\n",
    "plt.legend()\n",
    "plt.show()"
   ]
  },
  {
   "cell_type": "code",
   "execution_count": null,
   "metadata": {},
   "outputs": [],
   "source": [
    "distribution_with_prior_salmon = ...\n",
    "distribution_with_prior_seabass = ...\n",
    "decision_boundary = ...\n",
    "\n",
    "weights = np.linspace(1, 11, 101)\n",
    "\n",
    "# plot salmon\n",
    "plt.plot(weights, distribution_with_prior_salmon)\n",
    "plt.scatter(salmon, np.zeros_like(salmon), marker=\"<\", label=\"Salmon\")\n",
    "\n",
    "# plot seabass\n",
    "plt.plot(weights, distribution_with_prior_seabass)\n",
    "plt.scatter(seabass, np.zeros_like(seabass), marker=\">\", label=\"Seabass\")\n",
    "\n",
    "# plot the decision boundary as a vertical line\n",
    "# NOTE: The decision boundary is just a single point, but this is more visual.\n",
    "plt.vlines(decision_boundary,\n",
    "           0, np.max([distribution_with_prior_salmon, distribution_with_prior_seabass]),\n",
    "           color=\"red\")\n",
    "plt.legend()\n",
    "plt.show()"
   ]
  },
  {
   "cell_type": "code",
   "execution_count": null,
   "metadata": {},
   "outputs": [],
   "source": [
    "distribution_with_loss_salmon = ...\n",
    "distribution_with_loss_seabass = ...\n",
    "decision_boundary = ...\n",
    "\n",
    "weights = np.linspace(1, 11, 101)\n",
    "plt.plot(weights, distribution_with_loss_salmon)\n",
    "plt.scatter(salmon, np.zeros_like(salmon), marker=\"<\", label=\"Salmon\")\n",
    "plt.plot(weights, distribution_with_loss_seabass)\n",
    "plt.scatter(seabass, np.zeros_like(seabass), marker=\">\", label=\"Seabass\")\n",
    "plt.vlines(decision_boundary,\n",
    "           0, np.max([distribution_with_loss_salmon, distribution_with_loss_seabass]),\n",
    "           color=\"red\")\n",
    "plt.legend()\n",
    "plt.show()"
   ]
  }
 ],
 "metadata": {
  "kernelspec": {
   "display_name": "Python 3",
   "language": "python",
   "name": "python3"
  },
  "language_info": {
   "codemirror_mode": {
    "name": "ipython",
    "version": 3
   },
   "file_extension": ".py",
   "mimetype": "text/x-python",
   "name": "python",
   "nbconvert_exporter": "python",
   "pygments_lexer": "ipython3",
   "version": "3.8.5"
  }
 },
 "nbformat": 4,
 "nbformat_minor": 4
}
