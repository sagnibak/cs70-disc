{
 "cells": [
  {
   "cell_type": "code",
   "execution_count": null,
   "metadata": {},
   "outputs": [],
   "source": [
    "import matplotlib.pyplot as plt\n",
    "import sympy"
   ]
  },
  {
   "cell_type": "code",
   "execution_count": null,
   "metadata": {},
   "outputs": [],
   "source": [
    "x = sympy.Symbol(\"x\")\n",
    "p = sympy.poly(x**7 - x**2 + 100*x - 1, domain=sympy.GF(5, symmetric=False))\n",
    "p2 = sympy.poly(x**3 - x**2 + 100*x - 1, domain=sympy.GF(5, symmetric=False))\n",
    "p"
   ]
  },
  {
   "cell_type": "code",
   "execution_count": null,
   "metadata": {},
   "outputs": [],
   "source": [
    "p2"
   ]
  },
  {
   "cell_type": "code",
   "execution_count": null,
   "metadata": {},
   "outputs": [],
   "source": [
    "def plot_incremental(polynomial):\n",
    "    mod = polynomial.domain.mod\n",
    "    ys = [polynomial(x) for x in range(mod)]\n",
    "    \n",
    "    # add each point one by one\n",
    "    for x in range(mod):\n",
    "        plt.figure(figsize=[12, 8])\n",
    "        plt.scatter(range(x + 1), ys[:x + 1])\n",
    "        plt.xlim((-0.5, mod - 0.5))\n",
    "        plt.ylim((-0.5, mod - 0.5))\n",
    "        plt.show()\n",
    "        yield\n",
    "        plt.close()\n",
    "        \n",
    "def plot_once(polynomial):\n",
    "    mod = polynomial.domain.mod\n",
    "    ys = [polynomial(x) for x in range(mod)]\n",
    "    \n",
    "    plt.figure(figsize=[4, 4])\n",
    "    plt.scatter(range(mod), ys)\n",
    "    plt.xlim((-0.5, mod - 0.5))\n",
    "    plt.ylim((-0.5, mod - 0.5))\n",
    "    plt.show()\n",
    "    plt.close()\n",
    "\n",
    "def plot_side_by_side(p1, p2):\n",
    "    mod1 = p1.domain.mod\n",
    "    mod2 = p2.domain.mod\n",
    "    y1s = [p1(x) for x in range(mod1)]\n",
    "    y2s = [p2(x) for x in range(mod2)]\n",
    "    \n",
    "    plt.figure(figsize=[17, 8])\n",
    "    \n",
    "    plt.subplot(121)\n",
    "    plt.scatter(range(mod1), y1s)\n",
    "    plt.xlim((-0.5, mod1 - 0.5))\n",
    "    plt.ylim((-0.5, mod1 - 0.5))\n",
    "    plt.title(p1)\n",
    "    \n",
    "    plt.subplot(122)\n",
    "    plt.scatter(range(mod2), y2s)\n",
    "    plt.xlim((-0.5, mod2 - 0.5))\n",
    "    plt.ylim((-0.5, mod2 - 0.5))\n",
    "    plt.title(p2)\n",
    "\n",
    "    plt.show()\n",
    "    plt.close()"
   ]
  },
  {
   "cell_type": "code",
   "execution_count": null,
   "metadata": {},
   "outputs": [],
   "source": [
    "plots = plot_incremental(p)"
   ]
  },
  {
   "cell_type": "code",
   "execution_count": null,
   "metadata": {},
   "outputs": [],
   "source": [
    "plot_side_by_side(p, p2)"
   ]
  },
  {
   "cell_type": "code",
   "execution_count": null,
   "metadata": {
    "scrolled": false
   },
   "outputs": [],
   "source": [
    "whatIsThis = sympy.poly(x + x**2 + x**3 + x**4 + x**5, domain=sympy.GF(5, symmetric=False))\n",
    "plots = plot_incremental(whatIsThis)"
   ]
  },
  {
   "cell_type": "code",
   "execution_count": null,
   "metadata": {},
   "outputs": [],
   "source": [
    "# what's coming next?\n",
    "# Run this cell m times if your polynomial is mod m (i.e., in GF(m))\n",
    "next(plots)"
   ]
  }
 ],
 "metadata": {
  "kernelspec": {
   "display_name": "Python 3",
   "language": "python",
   "name": "python3"
  },
  "language_info": {
   "codemirror_mode": {
    "name": "ipython",
    "version": 3
   },
   "file_extension": ".py",
   "mimetype": "text/x-python",
   "name": "python",
   "nbconvert_exporter": "python",
   "pygments_lexer": "ipython3",
   "version": "3.7.6-final"
  }
 },
 "nbformat": 4,
 "nbformat_minor": 4
}