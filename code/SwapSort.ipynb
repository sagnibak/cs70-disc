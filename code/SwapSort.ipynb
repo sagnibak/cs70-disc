{
 "cells": [
  {
   "cell_type": "code",
   "execution_count": 1,
   "metadata": {
    "scrolled": true
   },
   "outputs": [],
   "source": [
    "import matplotlib.pyplot as plt\n",
    "import numpy as np\n",
    "import pandas as pd\n",
    "import random\n",
    "from typing import Any, List\n",
    "\n",
    "import matplotlib as mpl\n",
    "mpl.rcParams[\"figure.figsize\"] = [8, 6]\n",
    "mpl.rcParams[\"font.size\"] = 14\n",
    "\n",
    "import seaborn as sns\n",
    "sns.set_style(\"white\")"
   ]
  },
  {
   "cell_type": "markdown",
   "metadata": {},
   "source": [
    "# SwapSort\n",
    "\n",
    "Consider the following sorting algorithm which sorts an array `A` of length `n`:\n",
    "1. If `A` is sorted, return.\n",
    "2. Otherwise choose two numbers `i` and `j` between `0` and `n - 1` independently from the uniform distribution on that range.\n",
    "3. Swap `A[i]` with `A[j]`.\n",
    "4. Jump to step 1.\n",
    "\n",
    "Note that SwapSort is NOT the infamous [BogoSort](https://en.wikipedia.org/wiki/Bogosort). Apparently SwapSort is also called [BozoSort](https://xlinux.nist.gov/dads/HTML/bozoSort.html), but I like the name SwapSort since it is more illuminating, so I will stick with that name instead.\n",
    "\n",
    "Below is a Python implementation."
   ]
  },
  {
   "cell_type": "code",
   "execution_count": 2,
   "metadata": {},
   "outputs": [],
   "source": [
    "def swapSort(A):\n",
    "    n = len(A)\n",
    "    while not isSorted(A):\n",
    "        i = random.randint(0, n - 1)\n",
    "        j = random.randint(0, n - 1)\n",
    "        A[i], A[j] = A[j], A[i]\n",
    "    return A  # nice for printing\n",
    "\n",
    "def isSorted(A):\n",
    "    return all((A[i] <= A[i + 1] for i in range(len(A) - 1)))"
   ]
  },
  {
   "cell_type": "markdown",
   "metadata": {},
   "source": [
    "Now let's modify this implementation of `swapSort` to also count the number of iterations."
   ]
  },
  {
   "cell_type": "code",
   "execution_count": 3,
   "metadata": {},
   "outputs": [],
   "source": [
    "def swapSort(A):\n",
    "    n = len(A)\n",
    "    count = 0\n",
    "    while not isSorted(A):\n",
    "        i = random.randint(0, n - 1)\n",
    "        j = random.randint(0, n - 1)\n",
    "        A[i], A[j] = A[j], A[i]\n",
    "        count += 1\n",
    "    return A, count"
   ]
  },
  {
   "cell_type": "code",
   "execution_count": 4,
   "metadata": {},
   "outputs": [
    {
     "data": {
      "text/plain": [
       "([1, 3, 5, 6, 10], 167)"
      ]
     },
     "execution_count": 4,
     "metadata": {},
     "output_type": "execute_result"
    }
   ],
   "source": [
    "swapSort([1,10,3,6,5])"
   ]
  },
  {
   "cell_type": "code",
   "execution_count": 5,
   "metadata": {},
   "outputs": [],
   "source": [
    "numSamples = 100\n",
    "ns = list(range(1, 10))\n",
    "\n",
    "samples = {n: [] for n in ns}\n",
    "for n in ns:\n",
    "    for _ in range(numSamples):\n",
    "        A = np.random.randint(low=-2 * n, high=2 * n, size=n)\n",
    "        samples[n].append(swapSort(A)[1])\n",
    "\n",
    "samples = pd.DataFrame(data=samples)"
   ]
  },
  {
   "cell_type": "code",
   "execution_count": 6,
   "metadata": {},
   "outputs": [
    {
     "data": {
      "text/html": [
       "<div>\n",
       "<style scoped>\n",
       "    .dataframe tbody tr th:only-of-type {\n",
       "        vertical-align: middle;\n",
       "    }\n",
       "\n",
       "    .dataframe tbody tr th {\n",
       "        vertical-align: top;\n",
       "    }\n",
       "\n",
       "    .dataframe thead th {\n",
       "        text-align: right;\n",
       "    }\n",
       "</style>\n",
       "<table border=\"1\" class=\"dataframe\">\n",
       "  <thead>\n",
       "    <tr style=\"text-align: right;\">\n",
       "      <th></th>\n",
       "      <th>1</th>\n",
       "      <th>2</th>\n",
       "      <th>3</th>\n",
       "      <th>4</th>\n",
       "      <th>5</th>\n",
       "      <th>6</th>\n",
       "      <th>7</th>\n",
       "      <th>8</th>\n",
       "      <th>9</th>\n",
       "    </tr>\n",
       "  </thead>\n",
       "  <tbody>\n",
       "    <tr>\n",
       "      <th>0</th>\n",
       "      <td>0</td>\n",
       "      <td>1</td>\n",
       "      <td>8</td>\n",
       "      <td>64</td>\n",
       "      <td>60</td>\n",
       "      <td>551</td>\n",
       "      <td>8844</td>\n",
       "      <td>14268</td>\n",
       "      <td>30978</td>\n",
       "    </tr>\n",
       "    <tr>\n",
       "      <th>1</th>\n",
       "      <td>0</td>\n",
       "      <td>2</td>\n",
       "      <td>15</td>\n",
       "      <td>2</td>\n",
       "      <td>323</td>\n",
       "      <td>1028</td>\n",
       "      <td>8740</td>\n",
       "      <td>198442</td>\n",
       "      <td>137488</td>\n",
       "    </tr>\n",
       "    <tr>\n",
       "      <th>2</th>\n",
       "      <td>0</td>\n",
       "      <td>0</td>\n",
       "      <td>2</td>\n",
       "      <td>14</td>\n",
       "      <td>343</td>\n",
       "      <td>693</td>\n",
       "      <td>3724</td>\n",
       "      <td>2720</td>\n",
       "      <td>148662</td>\n",
       "    </tr>\n",
       "    <tr>\n",
       "      <th>3</th>\n",
       "      <td>0</td>\n",
       "      <td>0</td>\n",
       "      <td>5</td>\n",
       "      <td>5</td>\n",
       "      <td>44</td>\n",
       "      <td>545</td>\n",
       "      <td>4027</td>\n",
       "      <td>18056</td>\n",
       "      <td>83067</td>\n",
       "    </tr>\n",
       "    <tr>\n",
       "      <th>4</th>\n",
       "      <td>0</td>\n",
       "      <td>3</td>\n",
       "      <td>19</td>\n",
       "      <td>25</td>\n",
       "      <td>436</td>\n",
       "      <td>746</td>\n",
       "      <td>3398</td>\n",
       "      <td>16235</td>\n",
       "      <td>1540857</td>\n",
       "    </tr>\n",
       "    <tr>\n",
       "      <th>...</th>\n",
       "      <td>...</td>\n",
       "      <td>...</td>\n",
       "      <td>...</td>\n",
       "      <td>...</td>\n",
       "      <td>...</td>\n",
       "      <td>...</td>\n",
       "      <td>...</td>\n",
       "      <td>...</td>\n",
       "      <td>...</td>\n",
       "    </tr>\n",
       "    <tr>\n",
       "      <th>95</th>\n",
       "      <td>0</td>\n",
       "      <td>3</td>\n",
       "      <td>22</td>\n",
       "      <td>17</td>\n",
       "      <td>32</td>\n",
       "      <td>583</td>\n",
       "      <td>2332</td>\n",
       "      <td>23604</td>\n",
       "      <td>12174</td>\n",
       "    </tr>\n",
       "    <tr>\n",
       "      <th>96</th>\n",
       "      <td>0</td>\n",
       "      <td>1</td>\n",
       "      <td>5</td>\n",
       "      <td>11</td>\n",
       "      <td>228</td>\n",
       "      <td>166</td>\n",
       "      <td>1235</td>\n",
       "      <td>20068</td>\n",
       "      <td>135986</td>\n",
       "    </tr>\n",
       "    <tr>\n",
       "      <th>97</th>\n",
       "      <td>0</td>\n",
       "      <td>0</td>\n",
       "      <td>6</td>\n",
       "      <td>5</td>\n",
       "      <td>10</td>\n",
       "      <td>241</td>\n",
       "      <td>252</td>\n",
       "      <td>4465</td>\n",
       "      <td>127947</td>\n",
       "    </tr>\n",
       "    <tr>\n",
       "      <th>98</th>\n",
       "      <td>0</td>\n",
       "      <td>0</td>\n",
       "      <td>2</td>\n",
       "      <td>27</td>\n",
       "      <td>89</td>\n",
       "      <td>271</td>\n",
       "      <td>2991</td>\n",
       "      <td>19047</td>\n",
       "      <td>55985</td>\n",
       "    </tr>\n",
       "    <tr>\n",
       "      <th>99</th>\n",
       "      <td>0</td>\n",
       "      <td>5</td>\n",
       "      <td>9</td>\n",
       "      <td>10</td>\n",
       "      <td>75</td>\n",
       "      <td>253</td>\n",
       "      <td>2201</td>\n",
       "      <td>6636</td>\n",
       "      <td>237028</td>\n",
       "    </tr>\n",
       "  </tbody>\n",
       "</table>\n",
       "<p>100 rows × 9 columns</p>\n",
       "</div>"
      ],
      "text/plain": [
       "    1  2   3   4    5     6     7       8        9\n",
       "0   0  1   8  64   60   551  8844   14268    30978\n",
       "1   0  2  15   2  323  1028  8740  198442   137488\n",
       "2   0  0   2  14  343   693  3724    2720   148662\n",
       "3   0  0   5   5   44   545  4027   18056    83067\n",
       "4   0  3  19  25  436   746  3398   16235  1540857\n",
       ".. .. ..  ..  ..  ...   ...   ...     ...      ...\n",
       "95  0  3  22  17   32   583  2332   23604    12174\n",
       "96  0  1   5  11  228   166  1235   20068   135986\n",
       "97  0  0   6   5   10   241   252    4465   127947\n",
       "98  0  0   2  27   89   271  2991   19047    55985\n",
       "99  0  5   9  10   75   253  2201    6636   237028\n",
       "\n",
       "[100 rows x 9 columns]"
      ]
     },
     "execution_count": 6,
     "metadata": {},
     "output_type": "execute_result"
    }
   ],
   "source": [
    "samples"
   ]
  },
  {
   "cell_type": "code",
   "execution_count": 7,
   "metadata": {},
   "outputs": [
    {
     "data": {
      "image/png": "[encoded data removed]",
      "text/plain": [
       "<Figure size 576x432 with 1 Axes>"
      ]
     },
     "metadata": {},
     "output_type": "display_data"
    }
   ],
   "source": [
    "ax = sns.boxplot(data=samples)\n",
    "ax.set(xlabel=r\"$n$\", ylabel=\"Number of Iterations\",\n",
    "       title=\"SwapSort Complexity\")\n",
    "ax;"
   ]
  },
  {
   "cell_type": "code",
   "execution_count": 8,
   "metadata": {},
   "outputs": [
    {
     "data": {
      "image/png": "[encoded data removed]",
      "text/plain": [
       "<Figure size 576x432 with 1 Axes>"
      ]
     },
     "metadata": {},
     "output_type": "display_data"
    }
   ],
   "source": [
    "ax = sns.boxplot(data=samples)\n",
    "ax.set_yscale(\"log\")\n",
    "ax.set(xlabel=r\"$n$\", ylabel=\"log(Number of Iterations)\",\n",
    "       title=\"SwapSort Complexity\")\n",
    "ax;"
   ]
  }
 ],
 "metadata": {
  "kernelspec": {
   "display_name": "Python 3",
   "language": "python",
   "name": "python3"
  },
  "language_info": {
   "codemirror_mode": {
    "name": "ipython",
    "version": 3
   },
   "file_extension": ".py",
   "mimetype": "text/x-python",
   "name": "python",
   "nbconvert_exporter": "python",
   "pygments_lexer": "ipython3",
   "version": "3.7.6"
  }
 },
 "nbformat": 4,
 "nbformat_minor": 4
}
