{
 "cells": [
  {
   "cell_type": "code",
   "execution_count": 1,
   "metadata": {},
   "outputs": [],
   "source": [
    "%load_ext autoreload\n",
    "%autoreload 2\n",
    "from stable_matching import Proposer, Rejector, gale_shapley"
   ]
  },
  {
   "cell_type": "code",
   "execution_count": 14,
   "metadata": {},
   "outputs": [],
   "source": [
    "_1 = Proposer(\"1\")\n",
    "_2 = Proposer(\"2\")\n",
    "_3 = Proposer(\"3\")\n",
    "A = Rejector(\"A\")\n",
    "B = Rejector(\"B\")\n",
    "C = Rejector(\"C\")\n",
    "\n",
    "_1 = Proposer(\"A\")\n",
    "_2 = Proposer(\"B\")\n",
    "_3 = Proposer(\"C\")\n",
    "A = Rejector(\"1\")\n",
    "B = Rejector(\"2\")\n",
    "C = Rejector(\"3\")\n",
    "\n",
    "_1.set_preferences([A, B, C])\n",
    "_2.set_preferences([B, A, C])\n",
    "_3.set_preferences([A, B, C])\n",
    "A.set_preferences([_2, _1, _3])\n",
    "B.set_preferences([_1, _2, _3])\n",
    "C.set_preferences([_1, _2, _3])"
   ]
  },
  {
   "cell_type": "code",
   "execution_count": 15,
   "metadata": {},
   "outputs": [
    {
     "name": "stdout",
     "output_type": "stream",
     "text": [
      "2\n",
      "2\n",
      "3\n"
     ]
    }
   ],
   "source": [
    "matchings = gale_shapley([_2, _1, _3], [A, C, B])"
   ]
  },
  {
   "cell_type": "code",
   "execution_count": 16,
   "metadata": {},
   "outputs": [
    {
     "name": "stdout",
     "output_type": "stream",
     "text": [
      "Proposer(C) <~> Rejector(1)\n",
      "Proposer(A) <~> Rejector(3)\n",
      "Proposer(B) <~> Rejector(2)\n"
     ]
    }
   ],
   "source": [
    "print(*map(lambda x: f\"{x[0]} <~> {x[1]}\", matchings), sep=\"\\n\")"
   ]
  }
 ],
 "metadata": {
  "kernelspec": {
   "display_name": "Python 3",
   "language": "python",
   "name": "python3"
  },
  "language_info": {
   "codemirror_mode": {
    "name": "ipython",
    "version": 3
   },
   "file_extension": ".py",
   "mimetype": "text/x-python",
   "name": "python",
   "nbconvert_exporter": "python",
   "pygments_lexer": "ipython3",
   "version": "3.7.6"
  }
 },
 "nbformat": 4,
 "nbformat_minor": 4
}
