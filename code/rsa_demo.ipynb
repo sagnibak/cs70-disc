{
 "metadata": {
  "language_info": {
   "codemirror_mode": {
    "name": "ipython",
    "version": 3
   },
   "file_extension": ".py",
   "mimetype": "text/x-python",
   "name": "python",
   "nbconvert_exporter": "python",
   "pygments_lexer": "ipython3",
   "version": "3.8.3-final"
  },
  "orig_nbformat": 2,
  "kernelspec": {
   "name": "Python 3.8.3 64-bit ('manim': conda)",
   "display_name": "Python 3.8.3 64-bit ('manim': conda)",
   "metadata": {
    "interpreter": {
     "hash": "1207d2bedcacc0598227cb239fce9b2bdaec46dcdb1114da0c7c070fd313a37c"
    }
   }
  }
 },
 "nbformat": 4,
 "nbformat_minor": 2,
 "cells": [
  {
   "cell_type": "code",
   "execution_count": 1,
   "metadata": {},
   "outputs": [],
   "source": [
    "from math import sqrt\n",
    "from mod_int import ModInt"
   ]
  },
  {
   "cell_type": "code",
   "execution_count": 2,
   "metadata": {},
   "outputs": [],
   "source": [
    "def factor(n: int, debug: bool = False) -> (int, int):\n",
    "    for q in range(2, int(sqrt(n)) + 1):\n",
    "        if n % q == 0:\n",
    "            return (n // q, q)\n",
    "        \n",
    "        if debug is True:\n",
    "            print(q)\n",
    "        \n",
    "    else:\n",
    "        return (n, 1)"
   ]
  },
  {
   "cell_type": "code",
   "execution_count": 3,
   "metadata": {
    "tags": []
   },
   "outputs": [
    {
     "output_type": "stream",
     "name": "stdout",
     "text": "341882235966070844515617\nHey Alice!\n"
    }
   ],
   "source": [
    "def textToBits(text: str) -> int:\n",
    "    return int.from_bytes(text.encode(), \"big\")\n",
    "\n",
    "def int_to_bytes(value, length):\n",
    "    \"\"\"Thanks to https://coderwall.com/p/x6xtxq/convert-bytes-to-int-or-int-to-bytes-in-python\"\"\"\n",
    "    result = []\n",
    "    for i in range(0, length):\n",
    "        result.append(value >> (i * 8) & 0xff)\n",
    "    result.reverse()\n",
    "    return result\n",
    "\n",
    "def bitsToText(bits: int) -> str:\n",
    "    return \"\".join(map(\n",
    "        lambda char: chr(char),\n",
    "        int_to_bytes(bits, (len(bin(bits)[2:]) // 8) + 1)\n",
    "    ))\n",
    "\n",
    "print(textToBits(\"Hey Alice!\"))\n",
    "print(bitsToText(textToBits(\"Hey Alice!\")))"
   ]
  },
  {
   "source": [
    "p, q, r = 2 ** 64 - 59, 2 ** 64 - 83, 2 ** 19 - 1"
   ],
   "cell_type": "code",
   "metadata": {},
   "execution_count": 4,
   "outputs": []
  },
  {
   "cell_type": "code",
   "execution_count": 5,
   "metadata": {
    "tags": []
   },
   "outputs": [
    {
     "output_type": "execute_result",
     "data": {
      "text/plain": "(524287, 1)"
     },
     "metadata": {},
     "execution_count": 5
    }
   ],
   "source": [
    "factor(r)"
   ]
  },
  {
   "cell_type": "code",
   "execution_count": 6,
   "metadata": {},
   "outputs": [
    {
     "output_type": "execute_result",
     "data": {
      "text/plain": "(18446744073709551533, 524287)"
     },
     "metadata": {},
     "execution_count": 6
    }
   ],
   "source": [
    "factor(q * r)"
   ]
  },
  {
   "cell_type": "code",
   "execution_count": 7,
   "metadata": {},
   "outputs": [
    {
     "output_type": "execute_result",
     "data": {
      "text/plain": "(18446744073709551557, 524287)"
     },
     "metadata": {},
     "execution_count": 7
    }
   ],
   "source": [
    "factor(p * r)"
   ]
  },
  {
   "cell_type": "code",
   "execution_count": 8,
   "metadata": {},
   "outputs": [
    {
     "output_type": "execute_result",
     "data": {
      "text/plain": "ModInt(val=1, coprime=18446744073709551557)"
     },
     "metadata": {},
     "execution_count": 8
    }
   ],
   "source": [
    "# Fermat's Little Theorem!\n",
    "ModInt(100123, p) ** (p - 1)"
   ]
  },
  {
   "cell_type": "code",
   "execution_count": 9,
   "metadata": {},
   "outputs": [
    {
     "output_type": "execute_result",
     "data": {
      "text/plain": "340282366920938460843936948965011886881"
     },
     "metadata": {},
     "execution_count": 9
    }
   ],
   "source": [
    "N = p * q\n",
    "N"
   ]
  },
  {
   "cell_type": "code",
   "execution_count": 10,
   "metadata": {},
   "outputs": [
    {
     "output_type": "execute_result",
     "data": {
      "text/plain": "128"
     },
     "metadata": {},
     "execution_count": 10
    }
   ],
   "source": [
    "len(f\"{N:b}\")"
   ]
  },
  {
   "cell_type": "code",
   "execution_count": 11,
   "metadata": {},
   "outputs": [
    {
     "output_type": "execute_result",
     "data": {
      "text/plain": "1"
     },
     "metadata": {},
     "execution_count": 11
    }
   ],
   "source": [
    "e = 3\n",
    "((p - 1) * (q - 1)) % e"
   ]
  },
  {
   "cell_type": "code",
   "execution_count": 12,
   "metadata": {},
   "outputs": [
    {
     "output_type": "execute_result",
     "data": {
      "text/plain": "ModInt(val=226854911280625640538028973878395189195, coprime=340282366920938460807043460817592783792)"
     },
     "metadata": {},
     "execution_count": 12
    }
   ],
   "source": [
    "e = ModInt(3, coprime=(p - 1) * (q - 1))\n",
    "d = e.inverse()\n",
    "d"
   ]
  },
  {
   "cell_type": "code",
   "execution_count": 13,
   "metadata": {},
   "outputs": [
    {
     "output_type": "execute_result",
     "data": {
      "text/plain": "ModInt(val=325595695533166539806092543633053243437, coprime=340282366920938460843936948965011886881)"
     },
     "metadata": {},
     "execution_count": 13
    }
   ],
   "source": [
    "message = textToBits(\"What's up?\")\n",
    "sent = ModInt(message, N) ** e.val\n",
    "sent"
   ]
  },
  {
   "cell_type": "code",
   "execution_count": 14,
   "metadata": {},
   "outputs": [
    {
     "output_type": "execute_result",
     "data": {
      "text/plain": "(\"What's up?\", '\\x00ôós1ÔiË\\x8e\\x87v0\\x95\\x94\\x14Ø-')"
     },
     "metadata": {},
     "execution_count": 14
    }
   ],
   "source": [
    "bitsToText(message), bitsToText(sent.val)"
   ]
  },
  {
   "cell_type": "code",
   "execution_count": 15,
   "metadata": {},
   "outputs": [
    {
     "output_type": "execute_result",
     "data": {
      "text/plain": "ModInt(val=412771367674419323695167, coprime=340282366920938460843936948965011886881)"
     },
     "metadata": {},
     "execution_count": 15
    }
   ],
   "source": [
    "decrypted = sent ** d.val\n",
    "decrypted"
   ]
  },
  {
   "cell_type": "code",
   "execution_count": 16,
   "metadata": {},
   "outputs": [
    {
     "output_type": "execute_result",
     "data": {
      "text/plain": "\"What's up?\""
     },
     "metadata": {},
     "execution_count": 16
    }
   ],
   "source": [
    "bitsToText(decrypted.val)"
   ]
  }
 ]
}