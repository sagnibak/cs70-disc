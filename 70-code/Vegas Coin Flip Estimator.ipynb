{
 "cells": [
  {
   "cell_type": "markdown",
   "metadata": {},
   "source": [
    "# Demo: Vegas Coin Flipping"
   ]
  },
  {
   "cell_type": "code",
   "execution_count": 1,
   "metadata": {},
   "outputs": [],
   "source": [
    "import matplotlib.pyplot as plt\n",
    "import numpy as np\n",
    "\n",
    "import matplotlib as mpl\n",
    "mpl.rcParams[\"figure.figsize\"] = [8, 6]\n",
    "mpl.rcParams[\"font.size\"] = 14"
   ]
  },
  {
   "cell_type": "code",
   "execution_count": 2,
   "metadata": {},
   "outputs": [],
   "source": [
    "p = 0.7  # this is a FIXED value, albeit unknown\n",
    "\n",
    "def experiment(n):\n",
    "    num_cheaters = int(np.floor(n * p))\n",
    "    num_honest = n - num_cheaters\n",
    "    return (num_cheaters * 1) + np.sum(np.random.randint(0, 2, (num_honest,)))"
   ]
  },
  {
   "cell_type": "markdown",
   "metadata": {},
   "source": [
    "## Estimating $p$ with $\\hat{p}$"
   ]
  },
  {
   "cell_type": "markdown",
   "metadata": {},
   "source": [
    "We found using math that $\\hat{p} = 2X - 1$ is an unbiased estimator of $p$. Let's see if that is in fact the case, empirically."
   ]
  },
  {
   "cell_type": "code",
   "execution_count": 3,
   "metadata": {},
   "outputs": [
    {
     "data": {
      "text/plain": [
       "0.706"
      ]
     },
     "execution_count": 3,
     "metadata": {},
     "output_type": "execute_result"
    }
   ],
   "source": [
    "n = 1000\n",
    "X_sum = experiment(n)\n",
    "X = X_sum / n\n",
    "p_hat = 2 * X - 1\n",
    "p_hat"
   ]
  },
  {
   "cell_type": "markdown",
   "metadata": {},
   "source": [
    "## The Distribution of $\\hat{p}$"
   ]
  },
  {
   "cell_type": "code",
   "execution_count": 4,
   "metadata": {},
   "outputs": [],
   "source": [
    "def get_p_hat(n):\n",
    "    X_sum = experiment(n)\n",
    "    X_bar = X_sum / n\n",
    "    p_hat = 2 * X_bar - 1\n",
    "    return p_hat"
   ]
  },
  {
   "cell_type": "code",
   "execution_count": 5,
   "metadata": {},
   "outputs": [
    {
     "data": {
      "image/png": "[encoded data removed]",
      "text/plain": [
       "<Figure size 576x432 with 1 Axes>"
      ]
     },
     "metadata": {
      "needs_background": "light"
     },
     "output_type": "display_data"
    }
   ],
   "source": [
    "n = 500\n",
    "estimates = [get_p_hat(n) for _ in range(10000)]\n",
    "plt.hist(estimates, bins=21)\n",
    "plt.title(r\"Distribution of $\\hat{p}$\")\n",
    "plt.xlabel(r\"Estimate of $\\hat{p}$\")\n",
    "plt.ylabel(r\"Frequency\")\n",
    "plt.xlim((p - 0.2, p + 0.2))\n",
    "plt.show()"
   ]
  },
  {
   "cell_type": "markdown",
   "metadata": {},
   "source": [
    "### How often is $\\hat{p}$ far away from $p$?"
   ]
  },
  {
   "cell_type": "markdown",
   "metadata": {},
   "source": [
    "The cell below computes the proportion of estimates $\\hat{p}$ which at most 0.05 away from the true $\\hat{p}$. Notice that the Chebyshev bound is very conservative, and in fact even with $n=1000$ we usually get more than $95\\%$ of the estimates away from $p$ by at most $0.05$. In fact most of the time you can get away with $n=500$ instead of $n=8000$."
   ]
  },
  {
   "cell_type": "code",
   "execution_count": 6,
   "metadata": {},
   "outputs": [
    {
     "data": {
      "text/plain": [
       "0.9608"
      ]
     },
     "execution_count": 6,
     "metadata": {},
     "output_type": "execute_result"
    }
   ],
   "source": [
    "np.mean(np.abs(np.array(estimates) - p) <= 0.05)"
   ]
  }
 ],
 "metadata": {
  "kernelspec": {
   "display_name": "Python 3",
   "language": "python",
   "name": "python3"
  },
  "language_info": {
   "codemirror_mode": {
    "name": "ipython",
    "version": 3
   },
   "file_extension": ".py",
   "mimetype": "text/x-python",
   "name": "python",
   "nbconvert_exporter": "python",
   "pygments_lexer": "ipython3",
   "version": "3.7.6"
  }
 },
 "nbformat": 4,
 "nbformat_minor": 4
}
