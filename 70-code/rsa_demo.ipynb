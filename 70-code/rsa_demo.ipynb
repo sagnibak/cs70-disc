{
 "metadata": {
  "language_info": {
   "codemirror_mode": {
    "name": "ipython",
    "version": 3
   },
   "file_extension": ".py",
   "mimetype": "text/x-python",
   "name": "python",
   "nbconvert_exporter": "python",
   "pygments_lexer": "ipython3",
   "version": "3.8.3-final"
  },
  "orig_nbformat": 2,
  "kernelspec": {
   "name": "Python 3.8.3 64-bit ('manim': conda)",
   "display_name": "Python 3.8.3 64-bit ('manim': conda)",
   "metadata": {
    "interpreter": {
     "hash": "1207d2bedcacc0598227cb239fce9b2bdaec46dcdb1114da0c7c070fd313a37c"
    }
   }
  }
 },
 "nbformat": 4,
 "nbformat_minor": 2,
 "cells": [
  {
   "cell_type": "code",
   "execution_count": 1,
   "metadata": {},
   "outputs": [],
   "source": [
    "from math import sqrt\n",
    "from mod_int import ModInt"
   ]
  },
  {
   "cell_type": "code",
   "execution_count": 2,
   "metadata": {},
   "outputs": [],
   "source": [
    "def factor(n: int) -> (int, int):\n",
    "    for q in range(2, int(sqrt(n)) + 1):\n",
    "        if n % q == 0:\n",
    "            return (n // q, q)\n",
    "    return (n, 1)"
   ]
  },
  {
   "cell_type": "code",
   "execution_count": 3,
   "metadata": {
    "tags": []
   },
   "outputs": [
    {
     "output_type": "stream",
     "name": "stdout",
     "text": "341882235966070844515617\nHey Alice!\n"
    }
   ],
   "source": [
    "def textToBits(text: str) -> int:\n",
    "    return int.from_bytes(text.encode(), \"big\")\n",
    "\n",
    "def int_to_bytes(value, length):\n",
    "    \"\"\"Thanks to https://coderwall.com/p/x6xtxq/convert-bytes-to-int-or-int-to-bytes-in-python\"\"\"\n",
    "    result = []\n",
    "    for i in range(0, length):\n",
    "        result.append(value >> (i * 8) & 0xff)\n",
    "    result.reverse()\n",
    "    return result\n",
    "\n",
    "def bitsToText(bits: int) -> str:\n",
    "    return \"\".join(map(\n",
    "        lambda char: chr(char),\n",
    "        int_to_bytes(bits, (len(f\"{bits:b}\") // 8) + 1)\n",
    "    ))\n",
    "\n",
    "print(textToBits(\"Hey Alice!\"))\n",
    "print(bitsToText(textToBits(\"Hey Alice!\")))"
   ]
  },
  {
   "source": [
    "p, q, r = 2 ** 64 - 59, 2 ** 64 - 83, 2 ** 19 - 1"
   ],
   "cell_type": "code",
   "metadata": {},
   "execution_count": 4,
   "outputs": []
  },
  {
   "cell_type": "code",
   "execution_count": 5,
   "metadata": {
    "tags": []
   },
   "outputs": [
    {
     "output_type": "execute_result",
     "data": {
      "text/plain": "(524287, 1)"
     },
     "metadata": {},
     "execution_count": 5
    }
   ],
   "source": [
    "factor(r)"
   ]
  },
  {
   "cell_type": "code",
   "execution_count": 7,
   "metadata": {},
   "outputs": [
    {
     "output_type": "execute_result",
     "data": {
      "text/plain": "(193, 1)"
     },
     "metadata": {},
     "execution_count": 7
    }
   ],
   "source": [
    "factor(193)"
   ]
  },
  {
   "cell_type": "code",
   "execution_count": 8,
   "metadata": {},
   "outputs": [
    {
     "output_type": "execute_result",
     "data": {
      "text/plain": "(18446744073709551533, 524287)"
     },
     "metadata": {},
     "execution_count": 8
    }
   ],
   "source": [
    "factor(q * r)"
   ]
  },
  {
   "cell_type": "code",
   "execution_count": 9,
   "metadata": {},
   "outputs": [
    {
     "output_type": "execute_result",
     "data": {
      "text/plain": "18446744073709551533"
     },
     "metadata": {},
     "execution_count": 9
    }
   ],
   "source": [
    "q"
   ]
  },
  {
   "cell_type": "code",
   "execution_count": 10,
   "metadata": {},
   "outputs": [
    {
     "output_type": "execute_result",
     "data": {
      "text/plain": "(18446744073709551557, 524287)"
     },
     "metadata": {},
     "execution_count": 10
    }
   ],
   "source": [
    "factor(p * r)"
   ]
  },
  {
   "cell_type": "code",
   "execution_count": 11,
   "metadata": {},
   "outputs": [
    {
     "output_type": "error",
     "ename": "KeyboardInterrupt",
     "evalue": "",
     "traceback": [
      "\u001b[0;31m---------------------------------------------------------------------------\u001b[0m",
      "\u001b[0;31mKeyboardInterrupt\u001b[0m                         Traceback (most recent call last)",
      "\u001b[0;32m<ipython-input-11-2d4d5da3d2a2>\u001b[0m in \u001b[0;36m<module>\u001b[0;34m\u001b[0m\n\u001b[0;32m----> 1\u001b[0;31m \u001b[0mfactor\u001b[0m\u001b[0;34m(\u001b[0m\u001b[0mp\u001b[0m \u001b[0;34m*\u001b[0m \u001b[0mq\u001b[0m\u001b[0;34m)\u001b[0m\u001b[0;34m\u001b[0m\u001b[0;34m\u001b[0m\u001b[0m\n\u001b[0m",
      "\u001b[0;32m<ipython-input-2-d89f62a622b2>\u001b[0m in \u001b[0;36mfactor\u001b[0;34m(n)\u001b[0m\n\u001b[1;32m      1\u001b[0m \u001b[0;32mdef\u001b[0m \u001b[0mfactor\u001b[0m\u001b[0;34m(\u001b[0m\u001b[0mn\u001b[0m\u001b[0;34m:\u001b[0m \u001b[0mint\u001b[0m\u001b[0;34m)\u001b[0m \u001b[0;34m->\u001b[0m \u001b[0;34m(\u001b[0m\u001b[0mint\u001b[0m\u001b[0;34m,\u001b[0m \u001b[0mint\u001b[0m\u001b[0;34m)\u001b[0m\u001b[0;34m:\u001b[0m\u001b[0;34m\u001b[0m\u001b[0;34m\u001b[0m\u001b[0m\n\u001b[1;32m      2\u001b[0m     \u001b[0;32mfor\u001b[0m \u001b[0mq\u001b[0m \u001b[0;32min\u001b[0m \u001b[0mrange\u001b[0m\u001b[0;34m(\u001b[0m\u001b[0;36m2\u001b[0m\u001b[0;34m,\u001b[0m \u001b[0mint\u001b[0m\u001b[0;34m(\u001b[0m\u001b[0msqrt\u001b[0m\u001b[0;34m(\u001b[0m\u001b[0mn\u001b[0m\u001b[0;34m)\u001b[0m\u001b[0;34m)\u001b[0m \u001b[0;34m+\u001b[0m \u001b[0;36m1\u001b[0m\u001b[0;34m)\u001b[0m\u001b[0;34m:\u001b[0m\u001b[0;34m\u001b[0m\u001b[0;34m\u001b[0m\u001b[0m\n\u001b[0;32m----> 3\u001b[0;31m         \u001b[0;32mif\u001b[0m \u001b[0mn\u001b[0m \u001b[0;34m%\u001b[0m \u001b[0mq\u001b[0m \u001b[0;34m==\u001b[0m \u001b[0;36m0\u001b[0m\u001b[0;34m:\u001b[0m\u001b[0;34m\u001b[0m\u001b[0;34m\u001b[0m\u001b[0m\n\u001b[0m\u001b[1;32m      4\u001b[0m             \u001b[0;32mreturn\u001b[0m \u001b[0;34m(\u001b[0m\u001b[0mn\u001b[0m \u001b[0;34m//\u001b[0m \u001b[0mq\u001b[0m\u001b[0;34m,\u001b[0m \u001b[0mq\u001b[0m\u001b[0;34m)\u001b[0m\u001b[0;34m\u001b[0m\u001b[0;34m\u001b[0m\u001b[0m\n\u001b[1;32m      5\u001b[0m     \u001b[0;32mreturn\u001b[0m \u001b[0;34m(\u001b[0m\u001b[0mn\u001b[0m\u001b[0;34m,\u001b[0m \u001b[0;36m1\u001b[0m\u001b[0;34m)\u001b[0m\u001b[0;34m\u001b[0m\u001b[0;34m\u001b[0m\u001b[0m\n",
      "\u001b[0;31mKeyboardInterrupt\u001b[0m: "
     ]
    }
   ],
   "source": [
    "factor(p * q)"
   ]
  },
  {
   "cell_type": "code",
   "execution_count": 12,
   "metadata": {},
   "outputs": [
    {
     "output_type": "execute_result",
     "data": {
      "text/plain": "1"
     },
     "metadata": {},
     "execution_count": 12
    }
   ],
   "source": [
    "# Fermat's Little Theorem!\n",
    "(ModInt(100123, p) ** (p - 1)).to_int()"
   ]
  },
  {
   "cell_type": "code",
   "execution_count": 14,
   "metadata": {},
   "outputs": [
    {
     "output_type": "execute_result",
     "data": {
      "text/plain": "ModInt(val=1, coprime=18446744073709551557)"
     },
     "metadata": {},
     "execution_count": 14
    }
   ],
   "source": [
    "(ModInt(100123, p) ** (p - 1))"
   ]
  },
  {
   "cell_type": "code",
   "execution_count": 15,
   "metadata": {},
   "outputs": [
    {
     "output_type": "execute_result",
     "data": {
      "text/plain": "340282366920938460843936948965011886881"
     },
     "metadata": {},
     "execution_count": 15
    }
   ],
   "source": [
    "N = p * q\n",
    "N"
   ]
  },
  {
   "cell_type": "code",
   "execution_count": 18,
   "metadata": {},
   "outputs": [
    {
     "output_type": "execute_result",
     "data": {
      "text/plain": "128"
     },
     "metadata": {},
     "execution_count": 18
    }
   ],
   "source": [
    "len(f\"{N:b}\")"
   ]
  },
  {
   "cell_type": "code",
   "execution_count": 23,
   "metadata": {},
   "outputs": [
    {
     "output_type": "execute_result",
     "data": {
      "text/plain": "1"
     },
     "metadata": {},
     "execution_count": 23
    }
   ],
   "source": [
    "e = 3\n",
    "((p - 1) * (q - 1)) % e"
   ]
  },
  {
   "cell_type": "code",
   "execution_count": 25,
   "metadata": {},
   "outputs": [
    {
     "output_type": "execute_result",
     "data": {
      "text/plain": "226854911280625640538028973878395189195"
     },
     "metadata": {},
     "execution_count": 25
    }
   ],
   "source": [
    "e = ModInt(3, coprime=(p - 1) * (q - 1))\n",
    "d = e.inverse()\n",
    "d.to_int()"
   ]
  },
  {
   "cell_type": "code",
   "execution_count": 26,
   "metadata": {},
   "outputs": [
    {
     "output_type": "execute_result",
     "data": {
      "text/plain": "ModInt(val=325595695533166539806092543633053243437, coprime=340282366920938460843936948965011886881)"
     },
     "metadata": {},
     "execution_count": 26
    }
   ],
   "source": [
    "message = textToBits(\"What's up?\")\n",
    "sent = ModInt(message, N) ** e.to_int()\n",
    "sent"
   ]
  },
  {
   "cell_type": "code",
   "execution_count": 27,
   "metadata": {},
   "outputs": [
    {
     "output_type": "execute_result",
     "data": {
      "text/plain": "412771367674419323695167"
     },
     "metadata": {},
     "execution_count": 27
    }
   ],
   "source": [
    "message"
   ]
  },
  {
   "cell_type": "code",
   "execution_count": 29,
   "metadata": {},
   "outputs": [
    {
     "output_type": "execute_result",
     "data": {
      "text/plain": "'\\x00ôós1ÔiË\\x8e\\x87v0\\x95\\x94\\x14Ø-'"
     },
     "metadata": {},
     "execution_count": 29
    }
   ],
   "source": [
    "# bitsToText(message),\n",
    "bitsToText(sent.to_int())"
   ]
  },
  {
   "cell_type": "code",
   "execution_count": 30,
   "metadata": {},
   "outputs": [
    {
     "output_type": "execute_result",
     "data": {
      "text/plain": "ModInt(val=412771367674419323695167, coprime=340282366920938460843936948965011886881)"
     },
     "metadata": {},
     "execution_count": 30
    }
   ],
   "source": [
    "decrypted = sent ** d.to_int()\n",
    "decrypted"
   ]
  },
  {
   "cell_type": "code",
   "execution_count": 31,
   "metadata": {},
   "outputs": [
    {
     "output_type": "execute_result",
     "data": {
      "text/plain": "\"What's up?\""
     },
     "metadata": {},
     "execution_count": 31
    }
   ],
   "source": [
    "bitsToText(decrypted.to_int())"
   ]
  },
  {
   "cell_type": "code",
   "execution_count": 32,
   "metadata": {},
   "outputs": [
    {
     "output_type": "execute_result",
     "data": {
      "text/plain": "'*wÔäù¦®\\x18Ñ\\x10Àe\\xa0\\x9d\\x95\\x16'"
     },
     "metadata": {},
     "execution_count": 32
    }
   ],
   "source": [
    "message = textToBits(\"This is a very long message, what might go wrong?\")\n",
    "sent = ModInt(message, N) ** e.to_int()\n",
    "decrypted = sent ** d.to_int()\n",
    "bitsToText(decrypted.to_int())"
   ]
  },
  {
   "cell_type": "code",
   "execution_count": 34,
   "metadata": {},
   "outputs": [
    {
     "output_type": "execute_result",
     "data": {
      "text/plain": "391"
     },
     "metadata": {},
     "execution_count": 34
    }
   ],
   "source": [
    "len(f\"{message:b}\")"
   ]
  },
  {
   "cell_type": "code",
   "execution_count": 38,
   "metadata": {},
   "outputs": [
    {
     "output_type": "execute_result",
     "data": {
      "text/plain": "'Is this len ok?'"
     },
     "metadata": {},
     "execution_count": 38
    }
   ],
   "source": [
    "message = textToBits(\"Is this len ok?\")\n",
    "sent = ModInt(message, N) ** e.to_int()\n",
    "decrypted = sent ** d.to_int()\n",
    "bitsToText(decrypted.to_int())"
   ]
  },
  {
   "cell_type": "code",
   "execution_count": 39,
   "metadata": {},
   "outputs": [
    {
     "output_type": "execute_result",
     "data": {
      "text/plain": "(340282366920938460843936948965011886881,\n ModInt(val=3, coprime=340282366920938460807043460817592783792))"
     },
     "metadata": {},
     "execution_count": 39
    }
   ],
   "source": [
    "N, e"
   ]
  },
  {
   "cell_type": "code",
   "execution_count": 40,
   "metadata": {},
   "outputs": [
    {
     "output_type": "execute_result",
     "data": {
      "text/plain": "ModInt(val=201093586951561296875, coprime=340282366920938460843936948965011886881)"
     },
     "metadata": {},
     "execution_count": 40
    }
   ],
   "source": [
    "yes = textToBits(\"Yes\")\n",
    "ModInt(yes, N) ** e.to_int()"
   ]
  },
  {
   "cell_type": "code",
   "execution_count": 41,
   "metadata": {},
   "outputs": [
    {
     "output_type": "execute_result",
     "data": {
      "text/plain": "ModInt(val=8095174953039, coprime=340282366920938460843936948965011886881)"
     },
     "metadata": {},
     "execution_count": 41
    }
   ],
   "source": [
    "no = textToBits(\"No\")\n",
    "ModInt(no, N) ** e.to_int()"
   ]
  }
 ]
}